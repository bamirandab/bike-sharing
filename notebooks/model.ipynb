{
  "cells": [
    {
      "cell_type": "markdown",
      "metadata": {
        "id": "view-in-github",
        "colab_type": "text"
      },
      "source": [
        "<a href=\"https://colab.research.google.com/github/bamirandab/bike-sharing/blob/develop/notebooks/model.ipynb\" target=\"_parent\"><img src=\"https://colab.research.google.com/assets/colab-badge.svg\" alt=\"Open In Colab\"/></a>"
      ]
    },
    {
      "cell_type": "code",
      "execution_count": 2,
      "metadata": {
        "id": "3m1gVbjnS0pL"
      },
      "outputs": [],
      "source": [
        "import pandas as pd\n",
        "import requests\n",
        "import io"
      ]
    },
    {
      "cell_type": "code",
      "source": [
        "from sklearn.model_selection import train_test_split\n",
        "from sklearn.preprocessing import StandardScaler\n",
        "from sklearn.feature_extraction import DictVectorizer\n",
        "import pandas as pd\n",
        "import tensorflow as tf"
      ],
      "metadata": {
        "id": "Ap2kYDFSS-ke"
      },
      "execution_count": 3,
      "outputs": []
    },
    {
      "cell_type": "code",
      "source": [
        "ss_1 = StandardScaler()\n",
        "ss_7 = StandardScaler()\n",
        "vec = DictVectorizer()"
      ],
      "metadata": {
        "id": "bURILCEuc-dv"
      },
      "execution_count": 4,
      "outputs": []
    },
    {
      "cell_type": "code",
      "source": [
        "# Downloading the csv file from your GitHub account\n",
        "url = \"https://raw.githubusercontent.com/bamirandab/bike-sharing/develop/data/train.csv\" # Make sure the url is the raw version of the file on GitHub\n",
        "download = requests.get(url).content\n",
        "\n",
        "# Reading the downloaded content and turning it into a pandas dataframe\n",
        "df = pd.read_csv(io.StringIO(download.decode('utf-8')))"
      ],
      "metadata": {
        "id": "kcPJgq3fT71o"
      },
      "execution_count": 5,
      "outputs": []
    },
    {
      "cell_type": "code",
      "source": [
        "df.dropna(axis=0, inplace=True)\n",
        "dummies_columns = ['season', 'mnth', 'hr', 'weekday', 'weathersit']\n",
        "       \n",
        "df[dummies_columns] = df[dummies_columns].astype(str)"
      ],
      "metadata": {
        "id": "lDU2eFYYnFAh"
      },
      "execution_count": 6,
      "outputs": []
    },
    {
      "cell_type": "code",
      "source": [
        "ss_1.fit(df.cnt_1.values.reshape(-1,1))\n",
        "ss_7.fit(df.cnt_7.values.reshape(-1,1))\n",
        "\n",
        "df['cnt_1_ss'] = ss_1.transform(df.cnt_1.values.reshape(-1,1))\n",
        "df['cnt_7_ss'] = ss_7.transform(df.cnt_7.values.reshape(-1,1))"
      ],
      "metadata": {
        "id": "JCwLUkd3dFUW"
      },
      "execution_count": 7,
      "outputs": []
    },
    {
      "cell_type": "code",
      "source": [
        "df.info()"
      ],
      "metadata": {
        "id": "tY2pGEhDr540",
        "outputId": "ca5ed1de-5be4-436d-f44b-416f22d15761",
        "colab": {
          "base_uri": "https://localhost:8080/"
        }
      },
      "execution_count": 8,
      "outputs": [
        {
          "output_type": "stream",
          "name": "stdout",
          "text": [
            "<class 'pandas.core.frame.DataFrame'>\n",
            "Int64Index: 16950 entries, 161 to 17378\n",
            "Data columns (total 17 columns):\n",
            " #   Column      Non-Null Count  Dtype  \n",
            "---  ------      --------------  -----  \n",
            " 0   season      16950 non-null  object \n",
            " 1   yr          16950 non-null  int64  \n",
            " 2   mnth        16950 non-null  object \n",
            " 3   hr          16950 non-null  object \n",
            " 4   holiday     16950 non-null  int64  \n",
            " 5   weekday     16950 non-null  object \n",
            " 6   workingday  16950 non-null  int64  \n",
            " 7   weathersit  16950 non-null  object \n",
            " 8   temp        16950 non-null  float64\n",
            " 9   atemp       16950 non-null  float64\n",
            " 10  hum         16950 non-null  float64\n",
            " 11  windspeed   16950 non-null  float64\n",
            " 12  cnt         16950 non-null  int64  \n",
            " 13  cnt_7       16950 non-null  float64\n",
            " 14  cnt_1       16950 non-null  float64\n",
            " 15  cnt_1_ss    16950 non-null  float64\n",
            " 16  cnt_7_ss    16950 non-null  float64\n",
            "dtypes: float64(8), int64(4), object(5)\n",
            "memory usage: 2.3+ MB\n"
          ]
        }
      ]
    },
    {
      "cell_type": "code",
      "source": [
        "df_x = df.drop(['cnt', 'cnt_1_ss','cnt_7_ss', 'cnt_1','cnt_7'],axis =1).copy()\n",
        "dict_data = df_x.apply(lambda x: {col: x[col] for col in df_x.columns}, axis=1)\n",
        "X = vec.fit_transform(dict_data).toarray()"
      ],
      "metadata": {
        "id": "hSd1wswno8sb"
      },
      "execution_count": 9,
      "outputs": []
    },
    {
      "cell_type": "code",
      "source": [
        "dict_data[161]"
      ],
      "metadata": {
        "id": "nibxwTaqvFRn",
        "outputId": "20e479d8-5da2-45c1-8bcb-58c803d1d5ad",
        "colab": {
          "base_uri": "https://localhost:8080/"
        }
      },
      "execution_count": 11,
      "outputs": [
        {
          "output_type": "execute_result",
          "data": {
            "text/plain": [
              "{'season': '1',\n",
              " 'yr': 0,\n",
              " 'mnth': '1',\n",
              " 'hr': '0',\n",
              " 'holiday': 0,\n",
              " 'weekday': '6',\n",
              " 'workingday': 0,\n",
              " 'weathersit': '2',\n",
              " 'temp': 0.18,\n",
              " 'atemp': 0.197,\n",
              " 'hum': 0.51,\n",
              " 'windspeed': 0.1642}"
            ]
          },
          "metadata": {},
          "execution_count": 11
        }
      ]
    },
    {
      "cell_type": "code",
      "source": [
        "y = df.cnt\n",
        "\n",
        "X_train, X_test, y_train, y_test = train_test_split(X, y.values, test_size=0.1, random_state=42)"
      ],
      "metadata": {
        "id": "FbDxGkJfTy2r"
      },
      "execution_count": 12,
      "outputs": []
    },
    {
      "cell_type": "code",
      "source": [
        "model = tf.keras.Sequential()\n",
        "model.add(tf.keras.layers.Input(shape=X.shape[1]))\n",
        "model.add(tf.keras.layers.Dense(128, activation='relu'))\n",
        "model.add(tf.keras.layers.Dropout(0.2))\n",
        "model.add(tf.keras.layers.Dense(256, activation='relu'))\n",
        "model.add(tf.keras.layers.Dropout(0.2))\n",
        "model.add(tf.keras.layers.Dense(256, activation='relu'))\n",
        "model.add(tf.keras.layers.Dropout(0.2))\n",
        "model.add(tf.keras.layers.Dense(128, activation='relu'))\n",
        "model.add(tf.keras.layers.Dropout(0.2))\n",
        "model.add(tf.keras.layers.Dense(32, activation='relu'))\n",
        "model.add(tf.keras.layers.Dense(1))\n",
        "\n",
        "model.compile(loss= \"mean_squared_error\" , optimizer=\"adam\", metrics=[\"mean_squared_error\"])\n",
        "history = model.fit(X_train, y_train, epochs=100, batch_size=2**5, validation_data = (X_test, y_test))"
      ],
      "metadata": {
        "colab": {
          "base_uri": "https://localhost:8080/"
        },
        "id": "ty0rZdW4U7mz",
        "outputId": "cb1de913-815a-463d-d4f5-2126e595529c"
      },
      "execution_count": 13,
      "outputs": [
        {
          "output_type": "stream",
          "name": "stdout",
          "text": [
            "Epoch 1/100\n",
            "477/477 [==============================] - 9s 5ms/step - loss: 15027.6191 - mean_squared_error: 15027.6191 - val_loss: 3851.8076 - val_mean_squared_error: 3851.8076\n",
            "Epoch 2/100\n",
            "477/477 [==============================] - 2s 5ms/step - loss: 4513.6353 - mean_squared_error: 4513.6353 - val_loss: 2976.7351 - val_mean_squared_error: 2976.7351\n",
            "Epoch 3/100\n",
            "477/477 [==============================] - 3s 6ms/step - loss: 3923.7371 - mean_squared_error: 3923.7371 - val_loss: 2639.8679 - val_mean_squared_error: 2639.8679\n",
            "Epoch 4/100\n",
            "477/477 [==============================] - 2s 4ms/step - loss: 3625.3921 - mean_squared_error: 3625.3921 - val_loss: 2880.7197 - val_mean_squared_error: 2880.7197\n",
            "Epoch 5/100\n",
            "477/477 [==============================] - 2s 4ms/step - loss: 3438.5422 - mean_squared_error: 3438.5422 - val_loss: 2394.3728 - val_mean_squared_error: 2394.3728\n",
            "Epoch 6/100\n",
            "477/477 [==============================] - 2s 5ms/step - loss: 3174.3228 - mean_squared_error: 3174.3228 - val_loss: 2129.9980 - val_mean_squared_error: 2129.9980\n",
            "Epoch 7/100\n",
            "477/477 [==============================] - 2s 4ms/step - loss: 3093.2529 - mean_squared_error: 3093.2529 - val_loss: 2563.1365 - val_mean_squared_error: 2563.1365\n",
            "Epoch 8/100\n",
            "477/477 [==============================] - 3s 6ms/step - loss: 2983.8782 - mean_squared_error: 2983.8782 - val_loss: 2318.2468 - val_mean_squared_error: 2318.2468\n",
            "Epoch 9/100\n",
            "477/477 [==============================] - 2s 5ms/step - loss: 2917.6023 - mean_squared_error: 2917.6023 - val_loss: 2077.0654 - val_mean_squared_error: 2077.0654\n",
            "Epoch 10/100\n",
            "477/477 [==============================] - 2s 4ms/step - loss: 2785.5652 - mean_squared_error: 2785.5652 - val_loss: 2722.2432 - val_mean_squared_error: 2722.2432\n",
            "Epoch 11/100\n",
            "477/477 [==============================] - 2s 4ms/step - loss: 2827.4966 - mean_squared_error: 2827.4966 - val_loss: 1873.9481 - val_mean_squared_error: 1873.9481\n",
            "Epoch 12/100\n",
            "477/477 [==============================] - 2s 5ms/step - loss: 2660.3687 - mean_squared_error: 2660.3687 - val_loss: 1881.7483 - val_mean_squared_error: 1881.7483\n",
            "Epoch 13/100\n",
            "477/477 [==============================] - 2s 4ms/step - loss: 2716.1326 - mean_squared_error: 2716.1326 - val_loss: 2082.1462 - val_mean_squared_error: 2082.1462\n",
            "Epoch 14/100\n",
            "477/477 [==============================] - 3s 6ms/step - loss: 2572.6165 - mean_squared_error: 2572.6165 - val_loss: 2048.5146 - val_mean_squared_error: 2048.5146\n",
            "Epoch 15/100\n",
            "477/477 [==============================] - 2s 5ms/step - loss: 2572.9307 - mean_squared_error: 2572.9307 - val_loss: 1883.1775 - val_mean_squared_error: 1883.1775\n",
            "Epoch 16/100\n",
            "477/477 [==============================] - 3s 6ms/step - loss: 2567.8206 - mean_squared_error: 2567.8206 - val_loss: 1768.9851 - val_mean_squared_error: 1768.9851\n",
            "Epoch 17/100\n",
            "477/477 [==============================] - 2s 5ms/step - loss: 2486.7224 - mean_squared_error: 2486.7224 - val_loss: 1916.6881 - val_mean_squared_error: 1916.6881\n",
            "Epoch 18/100\n",
            "477/477 [==============================] - 2s 5ms/step - loss: 2353.1577 - mean_squared_error: 2353.1577 - val_loss: 1818.6064 - val_mean_squared_error: 1818.6064\n",
            "Epoch 19/100\n",
            "477/477 [==============================] - 3s 6ms/step - loss: 2359.8809 - mean_squared_error: 2359.8809 - val_loss: 1893.5430 - val_mean_squared_error: 1893.5430\n",
            "Epoch 20/100\n",
            "477/477 [==============================] - 2s 4ms/step - loss: 2424.1321 - mean_squared_error: 2424.1321 - val_loss: 1989.9795 - val_mean_squared_error: 1989.9795\n",
            "Epoch 21/100\n",
            "477/477 [==============================] - 2s 5ms/step - loss: 2407.5229 - mean_squared_error: 2407.5229 - val_loss: 1835.5900 - val_mean_squared_error: 1835.5900\n",
            "Epoch 22/100\n",
            "477/477 [==============================] - 3s 5ms/step - loss: 2290.9167 - mean_squared_error: 2290.9167 - val_loss: 1933.1492 - val_mean_squared_error: 1933.1492\n",
            "Epoch 23/100\n",
            "477/477 [==============================] - 2s 5ms/step - loss: 2373.3511 - mean_squared_error: 2373.3511 - val_loss: 2241.6943 - val_mean_squared_error: 2241.6943\n",
            "Epoch 24/100\n",
            "477/477 [==============================] - 3s 6ms/step - loss: 2140.5820 - mean_squared_error: 2140.5820 - val_loss: 2251.6240 - val_mean_squared_error: 2251.6240\n",
            "Epoch 25/100\n",
            "477/477 [==============================] - 2s 4ms/step - loss: 2285.9238 - mean_squared_error: 2285.9238 - val_loss: 1709.5444 - val_mean_squared_error: 1709.5444\n",
            "Epoch 26/100\n",
            "477/477 [==============================] - 3s 7ms/step - loss: 2145.3931 - mean_squared_error: 2145.3931 - val_loss: 1722.6458 - val_mean_squared_error: 1722.6458\n",
            "Epoch 27/100\n",
            "477/477 [==============================] - 2s 5ms/step - loss: 2142.9639 - mean_squared_error: 2142.9639 - val_loss: 1740.9857 - val_mean_squared_error: 1740.9857\n",
            "Epoch 28/100\n",
            "477/477 [==============================] - 2s 4ms/step - loss: 2152.9570 - mean_squared_error: 2152.9570 - val_loss: 1696.1917 - val_mean_squared_error: 1696.1917\n",
            "Epoch 29/100\n",
            "477/477 [==============================] - 4s 9ms/step - loss: 2105.5322 - mean_squared_error: 2105.5322 - val_loss: 1826.9865 - val_mean_squared_error: 1826.9865\n",
            "Epoch 30/100\n",
            "477/477 [==============================] - 2s 4ms/step - loss: 2133.2227 - mean_squared_error: 2133.2227 - val_loss: 1710.0808 - val_mean_squared_error: 1710.0808\n",
            "Epoch 31/100\n",
            "477/477 [==============================] - 2s 4ms/step - loss: 2196.1877 - mean_squared_error: 2196.1877 - val_loss: 1717.5940 - val_mean_squared_error: 1717.5940\n",
            "Epoch 32/100\n",
            "477/477 [==============================] - 2s 4ms/step - loss: 2077.8083 - mean_squared_error: 2077.8083 - val_loss: 1839.3463 - val_mean_squared_error: 1839.3463\n",
            "Epoch 33/100\n",
            "477/477 [==============================] - 2s 4ms/step - loss: 2129.4504 - mean_squared_error: 2129.4504 - val_loss: 1665.4658 - val_mean_squared_error: 1665.4658\n",
            "Epoch 34/100\n",
            "477/477 [==============================] - 3s 6ms/step - loss: 2086.7126 - mean_squared_error: 2086.7126 - val_loss: 1787.6858 - val_mean_squared_error: 1787.6858\n",
            "Epoch 35/100\n",
            "477/477 [==============================] - 2s 5ms/step - loss: 2062.6460 - mean_squared_error: 2062.6460 - val_loss: 1744.8392 - val_mean_squared_error: 1744.8392\n",
            "Epoch 36/100\n",
            "477/477 [==============================] - 2s 4ms/step - loss: 2028.6562 - mean_squared_error: 2028.6562 - val_loss: 1863.8218 - val_mean_squared_error: 1863.8218\n",
            "Epoch 37/100\n",
            "477/477 [==============================] - 2s 4ms/step - loss: 2016.2992 - mean_squared_error: 2016.2992 - val_loss: 1816.3092 - val_mean_squared_error: 1816.3092\n",
            "Epoch 38/100\n",
            "477/477 [==============================] - 2s 4ms/step - loss: 2034.2057 - mean_squared_error: 2034.2057 - val_loss: 1741.7777 - val_mean_squared_error: 1741.7777\n",
            "Epoch 39/100\n",
            "477/477 [==============================] - 3s 5ms/step - loss: 2088.8074 - mean_squared_error: 2088.8074 - val_loss: 1686.4347 - val_mean_squared_error: 1686.4347\n",
            "Epoch 40/100\n",
            "477/477 [==============================] - 3s 6ms/step - loss: 1988.5830 - mean_squared_error: 1988.5830 - val_loss: 1633.4944 - val_mean_squared_error: 1633.4944\n",
            "Epoch 41/100\n",
            "477/477 [==============================] - 3s 6ms/step - loss: 2006.4878 - mean_squared_error: 2006.4878 - val_loss: 1594.3643 - val_mean_squared_error: 1594.3643\n",
            "Epoch 42/100\n",
            "477/477 [==============================] - 2s 4ms/step - loss: 1944.7454 - mean_squared_error: 1944.7454 - val_loss: 1924.8605 - val_mean_squared_error: 1924.8605\n",
            "Epoch 43/100\n",
            "477/477 [==============================] - 2s 4ms/step - loss: 1945.5944 - mean_squared_error: 1945.5944 - val_loss: 1854.4928 - val_mean_squared_error: 1854.4928\n",
            "Epoch 44/100\n",
            "477/477 [==============================] - 2s 5ms/step - loss: 1978.5697 - mean_squared_error: 1978.5697 - val_loss: 1877.4626 - val_mean_squared_error: 1877.4626\n",
            "Epoch 45/100\n",
            "477/477 [==============================] - 3s 5ms/step - loss: 1949.0363 - mean_squared_error: 1949.0363 - val_loss: 1689.3668 - val_mean_squared_error: 1689.3668\n",
            "Epoch 46/100\n",
            "477/477 [==============================] - 2s 5ms/step - loss: 1941.0883 - mean_squared_error: 1941.0883 - val_loss: 1817.8854 - val_mean_squared_error: 1817.8854\n",
            "Epoch 47/100\n",
            "477/477 [==============================] - 2s 5ms/step - loss: 1915.7092 - mean_squared_error: 1915.7092 - val_loss: 1751.1846 - val_mean_squared_error: 1751.1846\n",
            "Epoch 48/100\n",
            "477/477 [==============================] - 2s 4ms/step - loss: 1907.0398 - mean_squared_error: 1907.0398 - val_loss: 1732.6763 - val_mean_squared_error: 1732.6763\n",
            "Epoch 49/100\n",
            "477/477 [==============================] - 2s 5ms/step - loss: 1933.1194 - mean_squared_error: 1933.1194 - val_loss: 1675.9460 - val_mean_squared_error: 1675.9460\n",
            "Epoch 50/100\n",
            "477/477 [==============================] - 3s 6ms/step - loss: 1884.7039 - mean_squared_error: 1884.7039 - val_loss: 1786.3359 - val_mean_squared_error: 1786.3359\n",
            "Epoch 51/100\n",
            "477/477 [==============================] - 2s 4ms/step - loss: 1914.9733 - mean_squared_error: 1914.9733 - val_loss: 1901.4658 - val_mean_squared_error: 1901.4658\n",
            "Epoch 52/100\n",
            "477/477 [==============================] - 2s 5ms/step - loss: 1838.2850 - mean_squared_error: 1838.2850 - val_loss: 2587.9885 - val_mean_squared_error: 2587.9885\n",
            "Epoch 53/100\n",
            "477/477 [==============================] - 3s 6ms/step - loss: 1882.8590 - mean_squared_error: 1882.8590 - val_loss: 1656.5354 - val_mean_squared_error: 1656.5354\n",
            "Epoch 54/100\n",
            "477/477 [==============================] - 2s 4ms/step - loss: 1866.2583 - mean_squared_error: 1866.2583 - val_loss: 2392.9707 - val_mean_squared_error: 2392.9707\n",
            "Epoch 55/100\n",
            "477/477 [==============================] - 3s 6ms/step - loss: 1857.4150 - mean_squared_error: 1857.4150 - val_loss: 2108.0530 - val_mean_squared_error: 2108.0530\n",
            "Epoch 56/100\n",
            "477/477 [==============================] - 2s 4ms/step - loss: 1857.4440 - mean_squared_error: 1857.4440 - val_loss: 1768.0399 - val_mean_squared_error: 1768.0399\n",
            "Epoch 57/100\n",
            "477/477 [==============================] - 2s 5ms/step - loss: 1883.0360 - mean_squared_error: 1883.0360 - val_loss: 2197.2573 - val_mean_squared_error: 2197.2573\n",
            "Epoch 58/100\n",
            "477/477 [==============================] - 2s 5ms/step - loss: 1786.5100 - mean_squared_error: 1786.5100 - val_loss: 1597.0935 - val_mean_squared_error: 1597.0935\n",
            "Epoch 59/100\n",
            "477/477 [==============================] - 2s 5ms/step - loss: 1771.9504 - mean_squared_error: 1771.9504 - val_loss: 1909.7032 - val_mean_squared_error: 1909.7032\n",
            "Epoch 60/100\n",
            "477/477 [==============================] - 3s 6ms/step - loss: 1794.4808 - mean_squared_error: 1794.4808 - val_loss: 2199.0747 - val_mean_squared_error: 2199.0747\n",
            "Epoch 61/100\n",
            "477/477 [==============================] - 2s 5ms/step - loss: 1785.8577 - mean_squared_error: 1785.8577 - val_loss: 1847.1284 - val_mean_squared_error: 1847.1284\n",
            "Epoch 62/100\n",
            "477/477 [==============================] - 2s 5ms/step - loss: 1865.6854 - mean_squared_error: 1865.6854 - val_loss: 1740.1171 - val_mean_squared_error: 1740.1171\n",
            "Epoch 63/100\n",
            "477/477 [==============================] - 2s 5ms/step - loss: 1804.4525 - mean_squared_error: 1804.4525 - val_loss: 2589.2944 - val_mean_squared_error: 2589.2944\n",
            "Epoch 64/100\n",
            "477/477 [==============================] - 2s 4ms/step - loss: 1797.7501 - mean_squared_error: 1797.7501 - val_loss: 1587.8508 - val_mean_squared_error: 1587.8508\n",
            "Epoch 65/100\n",
            "477/477 [==============================] - 3s 5ms/step - loss: 1734.5981 - mean_squared_error: 1734.5981 - val_loss: 1672.4397 - val_mean_squared_error: 1672.4397\n",
            "Epoch 66/100\n",
            "477/477 [==============================] - 3s 7ms/step - loss: 1798.2446 - mean_squared_error: 1798.2446 - val_loss: 1794.1705 - val_mean_squared_error: 1794.1705\n",
            "Epoch 67/100\n",
            "477/477 [==============================] - 2s 5ms/step - loss: 1768.3218 - mean_squared_error: 1768.3218 - val_loss: 2122.8479 - val_mean_squared_error: 2122.8479\n",
            "Epoch 68/100\n",
            "477/477 [==============================] - 2s 4ms/step - loss: 1757.4719 - mean_squared_error: 1757.4719 - val_loss: 1615.4839 - val_mean_squared_error: 1615.4839\n",
            "Epoch 69/100\n",
            "477/477 [==============================] - 2s 4ms/step - loss: 1734.1971 - mean_squared_error: 1734.1971 - val_loss: 1753.5551 - val_mean_squared_error: 1753.5551\n",
            "Epoch 70/100\n",
            "477/477 [==============================] - 2s 5ms/step - loss: 1729.3254 - mean_squared_error: 1729.3254 - val_loss: 1551.4711 - val_mean_squared_error: 1551.4711\n",
            "Epoch 71/100\n",
            "477/477 [==============================] - 3s 6ms/step - loss: 1760.8947 - mean_squared_error: 1760.8947 - val_loss: 2249.0251 - val_mean_squared_error: 2249.0251\n",
            "Epoch 72/100\n",
            "477/477 [==============================] - 2s 4ms/step - loss: 1690.0386 - mean_squared_error: 1690.0386 - val_loss: 1734.7479 - val_mean_squared_error: 1734.7479\n",
            "Epoch 73/100\n",
            "477/477 [==============================] - 2s 4ms/step - loss: 1656.2880 - mean_squared_error: 1656.2880 - val_loss: 1792.4882 - val_mean_squared_error: 1792.4882\n",
            "Epoch 74/100\n",
            "477/477 [==============================] - 2s 4ms/step - loss: 1701.9253 - mean_squared_error: 1701.9253 - val_loss: 1612.3939 - val_mean_squared_error: 1612.3939\n",
            "Epoch 75/100\n",
            "477/477 [==============================] - 2s 4ms/step - loss: 1631.6388 - mean_squared_error: 1631.6388 - val_loss: 1846.9095 - val_mean_squared_error: 1846.9095\n",
            "Epoch 76/100\n",
            "477/477 [==============================] - 3s 6ms/step - loss: 1705.4847 - mean_squared_error: 1705.4847 - val_loss: 1772.0303 - val_mean_squared_error: 1772.0303\n",
            "Epoch 77/100\n",
            "477/477 [==============================] - 2s 5ms/step - loss: 1741.7899 - mean_squared_error: 1741.7899 - val_loss: 1773.8618 - val_mean_squared_error: 1773.8618\n",
            "Epoch 78/100\n",
            "477/477 [==============================] - 2s 4ms/step - loss: 1606.3073 - mean_squared_error: 1606.3073 - val_loss: 4515.4526 - val_mean_squared_error: 4515.4526\n",
            "Epoch 79/100\n",
            "477/477 [==============================] - 2s 4ms/step - loss: 1616.9053 - mean_squared_error: 1616.9053 - val_loss: 2710.5688 - val_mean_squared_error: 2710.5688\n",
            "Epoch 80/100\n",
            "477/477 [==============================] - 2s 4ms/step - loss: 1611.8551 - mean_squared_error: 1611.8551 - val_loss: 1921.3367 - val_mean_squared_error: 1921.3367\n",
            "Epoch 81/100\n",
            "477/477 [==============================] - 2s 4ms/step - loss: 1574.0439 - mean_squared_error: 1574.0439 - val_loss: 2141.9316 - val_mean_squared_error: 2141.9316\n",
            "Epoch 82/100\n",
            "477/477 [==============================] - 3s 6ms/step - loss: 1529.6060 - mean_squared_error: 1529.6060 - val_loss: 3730.3513 - val_mean_squared_error: 3730.3513\n",
            "Epoch 83/100\n",
            "477/477 [==============================] - 2s 4ms/step - loss: 1600.1766 - mean_squared_error: 1600.1766 - val_loss: 2381.7556 - val_mean_squared_error: 2381.7556\n",
            "Epoch 84/100\n",
            "477/477 [==============================] - 2s 4ms/step - loss: 1472.3104 - mean_squared_error: 1472.3104 - val_loss: 3374.7581 - val_mean_squared_error: 3374.7581\n",
            "Epoch 85/100\n",
            "477/477 [==============================] - 2s 4ms/step - loss: 1486.3716 - mean_squared_error: 1486.3716 - val_loss: 3166.8457 - val_mean_squared_error: 3166.8457\n",
            "Epoch 86/100\n",
            "477/477 [==============================] - 2s 4ms/step - loss: 1494.0502 - mean_squared_error: 1494.0502 - val_loss: 2607.8796 - val_mean_squared_error: 2607.8796\n",
            "Epoch 87/100\n",
            "477/477 [==============================] - 3s 5ms/step - loss: 1501.1733 - mean_squared_error: 1501.1733 - val_loss: 2856.9478 - val_mean_squared_error: 2856.9478\n",
            "Epoch 88/100\n",
            "477/477 [==============================] - 2s 5ms/step - loss: 1526.2279 - mean_squared_error: 1526.2279 - val_loss: 3710.3962 - val_mean_squared_error: 3710.3962\n",
            "Epoch 89/100\n",
            "477/477 [==============================] - 2s 4ms/step - loss: 1518.6886 - mean_squared_error: 1518.6886 - val_loss: 3152.4421 - val_mean_squared_error: 3152.4421\n",
            "Epoch 90/100\n",
            "477/477 [==============================] - 2s 4ms/step - loss: 1477.3864 - mean_squared_error: 1477.3864 - val_loss: 3112.2109 - val_mean_squared_error: 3112.2109\n",
            "Epoch 91/100\n",
            "477/477 [==============================] - 2s 4ms/step - loss: 1510.7513 - mean_squared_error: 1510.7513 - val_loss: 2553.2588 - val_mean_squared_error: 2553.2588\n",
            "Epoch 92/100\n",
            "477/477 [==============================] - 3s 6ms/step - loss: 1443.6389 - mean_squared_error: 1443.6389 - val_loss: 3123.7307 - val_mean_squared_error: 3123.7307\n",
            "Epoch 93/100\n",
            "477/477 [==============================] - 3s 7ms/step - loss: 1458.1414 - mean_squared_error: 1458.1414 - val_loss: 3231.1873 - val_mean_squared_error: 3231.1873\n",
            "Epoch 94/100\n",
            "477/477 [==============================] - 2s 4ms/step - loss: 1437.6970 - mean_squared_error: 1437.6970 - val_loss: 3332.4353 - val_mean_squared_error: 3332.4353\n",
            "Epoch 95/100\n",
            "477/477 [==============================] - 2s 4ms/step - loss: 1443.7450 - mean_squared_error: 1443.7450 - val_loss: 3562.8425 - val_mean_squared_error: 3562.8425\n",
            "Epoch 96/100\n",
            "477/477 [==============================] - 2s 4ms/step - loss: 1413.2806 - mean_squared_error: 1413.2806 - val_loss: 3370.7375 - val_mean_squared_error: 3370.7375\n",
            "Epoch 97/100\n",
            "477/477 [==============================] - 2s 4ms/step - loss: 1394.4894 - mean_squared_error: 1394.4894 - val_loss: 2553.7100 - val_mean_squared_error: 2553.7100\n",
            "Epoch 98/100\n",
            "477/477 [==============================] - 3s 6ms/step - loss: 1376.2080 - mean_squared_error: 1376.2080 - val_loss: 3696.3157 - val_mean_squared_error: 3696.3157\n",
            "Epoch 99/100\n",
            "477/477 [==============================] - 2s 4ms/step - loss: 1427.4985 - mean_squared_error: 1427.4985 - val_loss: 2894.1711 - val_mean_squared_error: 2894.1711\n",
            "Epoch 100/100\n",
            "477/477 [==============================] - 2s 4ms/step - loss: 1375.1017 - mean_squared_error: 1375.1017 - val_loss: 2205.4836 - val_mean_squared_error: 2205.4836\n"
          ]
        }
      ]
    },
    {
      "cell_type": "code",
      "source": [
        "# Take a look at the training curves of your model\n",
        "import matplotlib.pyplot as plt\n",
        "\n",
        "\n",
        "acc = history.history['mean_squared_error']\n",
        "loss = history.history['loss']\n",
        "\n",
        "epochs = range(len(acc))\n",
        "\n",
        "plt.plot(epochs, acc, 'b', label='Training accuracy')\n",
        "plt.title('Training accuracy')\n",
        "\n",
        "plt.figure()\n",
        "\n",
        "plt.plot(epochs, loss, 'b', label='Training Loss')\n",
        "plt.title('Training loss')\n",
        "plt.legend()\n",
        "\n",
        "plt.show()"
      ],
      "metadata": {
        "colab": {
          "base_uri": "https://localhost:8080/",
          "height": 545
        },
        "id": "BYsK3KkZpVgl",
        "outputId": "84c1cc0e-c96d-48bf-af41-d9743a3b3879"
      },
      "execution_count": 14,
      "outputs": [
        {
          "output_type": "display_data",
          "data": {
            "text/plain": [
              "<Figure size 432x288 with 1 Axes>"
            ],
            "image/png": "[encoded data removed]"
          },
          "metadata": {
            "needs_background": "light"
          }
        },
        {
          "output_type": "display_data",
          "data": {
            "text/plain": [
              "<Figure size 432x288 with 1 Axes>"
            ],
            "image/png": "[encoded data removed]"
          },
          "metadata": {
            "needs_background": "light"
          }
        }
      ]
    },
    {
      "cell_type": "code",
      "source": [
        "import pickle\n",
        "from google.colab import files\n",
        "\n",
        "with open('vect.pkl', 'wb') as f:\n",
        "  pickle.dump(vec, f)\n",
        "\n",
        "files.download('vect.pkl')\n",
        "\n",
        "model.save('model.h5')\n",
        "\n",
        "files.download('model.h5')"
      ],
      "metadata": {
        "id": "rG_MBSsxxshX",
        "outputId": "79e8ec32-4b9e-4ad4-94d9-029e8947ad7f",
        "colab": {
          "base_uri": "https://localhost:8080/",
          "height": 17
        }
      },
      "execution_count": 15,
      "outputs": [
        {
          "output_type": "display_data",
          "data": {
            "text/plain": [
              "<IPython.core.display.Javascript object>"
            ],
            "application/javascript": [
              "\n",
              "    async function download(id, filename, size) {\n",
              "      if (!google.colab.kernel.accessAllowed) {\n",
              "        return;\n",
              "      }\n",
              "      const div = document.createElement('div');\n",
              "      const label = document.createElement('label');\n",
              "      label.textContent = `Downloading \"${filename}\": `;\n",
              "      div.appendChild(label);\n",
              "      const progress = document.createElement('progress');\n",
              "      progress.max = size;\n",
              "      div.appendChild(progress);\n",
              "      document.body.appendChild(div);\n",
              "\n",
              "      const buffers = [];\n",
              "      let downloaded = 0;\n",
              "\n",
              "      const channel = await google.colab.kernel.comms.open(id);\n",
              "      // Send a message to notify the kernel that we're ready.\n",
              "      channel.send({})\n",
              "\n",
              "      for await (const message of channel.messages) {\n",
              "        // Send a message to notify the kernel that we're ready.\n",
              "        channel.send({})\n",
              "        if (message.buffers) {\n",
              "          for (const buffer of message.buffers) {\n",
              "            buffers.push(buffer);\n",
              "            downloaded += buffer.byteLength;\n",
              "            progress.value = downloaded;\n",
              "          }\n",
              "        }\n",
              "      }\n",
              "      const blob = new Blob(buffers, {type: 'application/binary'});\n",
              "      const a = document.createElement('a');\n",
              "      a.href = window.URL.createObjectURL(blob);\n",
              "      a.download = filename;\n",
              "      div.appendChild(a);\n",
              "      a.click();\n",
              "      div.remove();\n",
              "    }\n",
              "  "
            ]
          },
          "metadata": {}
        },
        {
          "output_type": "display_data",
          "data": {
            "text/plain": [
              "<IPython.core.display.Javascript object>"
            ],
            "application/javascript": [
              "download(\"download_1c0d5e54-9e07-4712-891d-763e08b0f7a1\", \"vect.pkl\", 987)"
            ]
          },
          "metadata": {}
        },
        {
          "output_type": "display_data",
          "data": {
            "text/plain": [
              "<IPython.core.display.Javascript object>"
            ],
            "application/javascript": [
              "\n",
              "    async function download(id, filename, size) {\n",
              "      if (!google.colab.kernel.accessAllowed) {\n",
              "        return;\n",
              "      }\n",
              "      const div = document.createElement('div');\n",
              "      const label = document.createElement('label');\n",
              "      label.textContent = `Downloading \"${filename}\": `;\n",
              "      div.appendChild(label);\n",
              "      const progress = document.createElement('progress');\n",
              "      progress.max = size;\n",
              "      div.appendChild(progress);\n",
              "      document.body.appendChild(div);\n",
              "\n",
              "      const buffers = [];\n",
              "      let downloaded = 0;\n",
              "\n",
              "      const channel = await google.colab.kernel.comms.open(id);\n",
              "      // Send a message to notify the kernel that we're ready.\n",
              "      channel.send({})\n",
              "\n",
              "      for await (const message of channel.messages) {\n",
              "        // Send a message to notify the kernel that we're ready.\n",
              "        channel.send({})\n",
              "        if (message.buffers) {\n",
              "          for (const buffer of message.buffers) {\n",
              "            buffers.push(buffer);\n",
              "            downloaded += buffer.byteLength;\n",
              "            progress.value = downloaded;\n",
              "          }\n",
              "        }\n",
              "      }\n",
              "      const blob = new Blob(buffers, {type: 'application/binary'});\n",
              "      const a = document.createElement('a');\n",
              "      a.href = window.URL.createObjectURL(blob);\n",
              "      a.download = filename;\n",
              "      div.appendChild(a);\n",
              "      a.click();\n",
              "      div.remove();\n",
              "    }\n",
              "  "
            ]
          },
          "metadata": {}
        },
        {
          "output_type": "display_data",
          "data": {
            "text/plain": [
              "<IPython.core.display.Javascript object>"
            ],
            "application/javascript": [
              "download(\"download_00e5c55e-9ce5-4e36-ba48-4e8f4d80ac2d\", \"model.h5\", 1778320)"
            ]
          },
          "metadata": {}
        }
      ]
    }
  ],
  "metadata": {
    "language_info": {
      "name": "python"
    },
    "orig_nbformat": 4,
    "colab": {
      "provenance": [],
      "include_colab_link": true
    },
    "kernelspec": {
      "name": "python3",
      "display_name": "Python 3"
    },
    "gpuClass": "standard",
    "accelerator": "GPU"
  },
  "nbformat": 4,
  "nbformat_minor": 0
}